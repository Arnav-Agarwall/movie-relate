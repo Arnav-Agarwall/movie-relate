{
 "cells": [
  {
   "cell_type": "code",
   "execution_count": 3,
   "id": "e2d87727-fabb-4df4-bd72-96959b059841",
   "metadata": {},
   "outputs": [
    {
     "name": "stdout",
     "output_type": "stream",
     "text": [
      "                        title  vote_average  popularity\n",
      "2386           One Man's Hero           9.3    0.910529\n",
      "2796    The Prisoner of Zenda           8.4    4.021389\n",
      "2294            Spirited Away           8.3  118.968562\n",
      "65            The Dark Knight           8.2  187.322927\n",
      "690            The Green Mile           8.2  103.698022\n",
      "1990  The Empire Strikes Back           8.2   78.517830\n",
      "2247        Princess Mononoke           8.2   60.732738\n",
      "1987     Howl's Moving Castle           8.2   49.549984\n",
      "4535            Seven Samurai           8.2   39.756748\n",
      "95               Interstellar           8.1  724.247784\n"
     ]
    }
   ],
   "source": [
    "import pandas as pd\n",
    "import ast\n",
    "\n",
    "# Load dataset\n",
    "movies_data = pd.read_csv('tmdb_5000_movies.csv')\n",
    "\n",
    "# Parse and clean the genres column\n",
    "movies_data['parsed_genres'] = movies_data['genres'].apply(\n",
    "    lambda x: [genre['name'] for genre in ast.literal_eval(x)] if pd.notnull(x) else []\n",
    ")\n",
    "\n",
    "# Function to recommend top 10 movies based on genres of an input movie\n",
    "def recommend_by_movie_name(movie_name, top_n=10):\n",
    "    # Check if the movie exists in the dataset\n",
    "    if movie_name not in movies_data['title'].values:\n",
    "        return f\"Movie '{movie_name}' not found in the dataset.\"\n",
    "    \n",
    "    # Get genres of the input movie\n",
    "    input_movie_genres = movies_data[movies_data['title'] == movie_name]['parsed_genres'].values[0]\n",
    "    \n",
    "    # Filter movies that share at least one genre with the input movie\n",
    "    filtered_movies = movies_data[movies_data['parsed_genres'].apply(\n",
    "        lambda genres: any(genre in input_movie_genres for genre in genres)\n",
    "    )]\n",
    "    \n",
    "    # Sort movies by rating (vote_average), breaking ties with popularity\n",
    "    sorted_movies = filtered_movies.sort_values(\n",
    "        by=['vote_average', 'popularity'], ascending=[False, False]\n",
    "    )\n",
    "    \n",
    "    # Exclude the input movie from the recommendations\n",
    "    sorted_movies = sorted_movies[sorted_movies['title'] != movie_name]\n",
    "    \n",
    "    # Select the top N movies\n",
    "    top_movies = sorted_movies[['title', 'vote_average', 'popularity']].head(top_n)\n",
    "    return top_movies\n",
    "\n",
    "# Example usage\n",
    "input_movie = \"Avatar\"\n",
    "top_movies = recommend_by_movie_name(input_movie, top_n=10)\n",
    "print(top_movies)\n"
   ]
  },
  {
   "cell_type": "code",
   "execution_count": null,
   "id": "f8954943-0f12-4054-a5a8-85337cf97822",
   "metadata": {},
   "outputs": [],
   "source": []
  }
 ],
 "metadata": {
  "kernelspec": {
   "display_name": "Python 3 (ipykernel)",
   "language": "python",
   "name": "python3"
  },
  "language_info": {
   "codemirror_mode": {
    "name": "ipython",
    "version": 3
   },
   "file_extension": ".py",
   "mimetype": "text/x-python",
   "name": "python",
   "nbconvert_exporter": "python",
   "pygments_lexer": "ipython3",
   "version": "3.11.9"
  }
 },
 "nbformat": 4,
 "nbformat_minor": 5
}
